{
 "cells": [
  {
   "cell_type": "code",
   "execution_count": 1,
   "id": "0c36c214",
   "metadata": {
    "scrolled": true
   },
   "outputs": [],
   "source": [
    "import numpy as np\n",
    "import pandas as pd\n",
    "from scipy import sparse\n",
    "import itertools, random\n",
    "from mbi import Dataset, FactoredInference\n",
    "from cdp2adp import cdp_rho"
   ]
  },
  {
   "cell_type": "code",
   "execution_count": 2,
   "id": "fd8f2e9b",
   "metadata": {
    "scrolled": true
   },
   "outputs": [
    {
     "data": {
      "text/html": [
       "<div>\n",
       "<style scoped>\n",
       "    .dataframe tbody tr th:only-of-type {\n",
       "        vertical-align: middle;\n",
       "    }\n",
       "\n",
       "    .dataframe tbody tr th {\n",
       "        vertical-align: top;\n",
       "    }\n",
       "\n",
       "    .dataframe thead th {\n",
       "        text-align: right;\n",
       "    }\n",
       "</style>\n",
       "<table border=\"1\" class=\"dataframe\">\n",
       "  <thead>\n",
       "    <tr style=\"text-align: right;\">\n",
       "      <th></th>\n",
       "      <th>TransAmtDisc</th>\n",
       "      <th>DayOfWeek</th>\n",
       "      <th>Hour</th>\n",
       "      <th>Product</th>\n",
       "      <th>CardType</th>\n",
       "      <th>CardCategory</th>\n",
       "      <th>EmailDomain</th>\n",
       "      <th>Region</th>\n",
       "      <th>DaysSinceLastTrans</th>\n",
       "      <th>isFraud</th>\n",
       "    </tr>\n",
       "  </thead>\n",
       "  <tbody>\n",
       "    <tr>\n",
       "      <th>0</th>\n",
       "      <td>4</td>\n",
       "      <td>1</td>\n",
       "      <td>0</td>\n",
       "      <td>2</td>\n",
       "      <td>2</td>\n",
       "      <td>0</td>\n",
       "      <td>3</td>\n",
       "      <td>2</td>\n",
       "      <td>3</td>\n",
       "      <td>1</td>\n",
       "    </tr>\n",
       "    <tr>\n",
       "      <th>1</th>\n",
       "      <td>2</td>\n",
       "      <td>1</td>\n",
       "      <td>0</td>\n",
       "      <td>4</td>\n",
       "      <td>3</td>\n",
       "      <td>1</td>\n",
       "      <td>3</td>\n",
       "      <td>0</td>\n",
       "      <td>2</td>\n",
       "      <td>0</td>\n",
       "    </tr>\n",
       "    <tr>\n",
       "      <th>2</th>\n",
       "      <td>4</td>\n",
       "      <td>1</td>\n",
       "      <td>0</td>\n",
       "      <td>2</td>\n",
       "      <td>2</td>\n",
       "      <td>0</td>\n",
       "      <td>3</td>\n",
       "      <td>2</td>\n",
       "      <td>3</td>\n",
       "      <td>1</td>\n",
       "    </tr>\n",
       "    <tr>\n",
       "      <th>3</th>\n",
       "      <td>2</td>\n",
       "      <td>1</td>\n",
       "      <td>0</td>\n",
       "      <td>4</td>\n",
       "      <td>3</td>\n",
       "      <td>1</td>\n",
       "      <td>3</td>\n",
       "      <td>0</td>\n",
       "      <td>3</td>\n",
       "      <td>0</td>\n",
       "    </tr>\n",
       "    <tr>\n",
       "      <th>4</th>\n",
       "      <td>1</td>\n",
       "      <td>1</td>\n",
       "      <td>0</td>\n",
       "      <td>1</td>\n",
       "      <td>0</td>\n",
       "      <td>0</td>\n",
       "      <td>3</td>\n",
       "      <td>3</td>\n",
       "      <td>3</td>\n",
       "      <td>0</td>\n",
       "    </tr>\n",
       "  </tbody>\n",
       "</table>\n",
       "</div>"
      ],
      "text/plain": [
       "   TransAmtDisc  DayOfWeek  Hour  Product  CardType  CardCategory  \\\n",
       "0             4          1     0        2         2             0   \n",
       "1             2          1     0        4         3             1   \n",
       "2             4          1     0        2         2             0   \n",
       "3             2          1     0        4         3             1   \n",
       "4             1          1     0        1         0             0   \n",
       "\n",
       "   EmailDomain  Region  DaysSinceLastTrans  isFraud  \n",
       "0            3       2                   3        1  \n",
       "1            3       0                   2        0  \n",
       "2            3       2                   3        1  \n",
       "3            3       0                   3        0  \n",
       "4            3       3                   3        0  "
      ]
     },
     "metadata": {},
     "output_type": "display_data"
    },
    {
     "data": {
      "text/plain": [
       "Domain(TransAmtDisc: 5, DayOfWeek: 7, Hour: 24, Product: 5, CardType: 4, CardCategory: 2, EmailDomain: 10, Region: 6, DaysSinceLastTrans: 4, isFraud: 2)"
      ]
     },
     "metadata": {},
     "output_type": "display_data"
    }
   ],
   "source": [
    "# Load data\n",
    "data = Dataset.load('data.csv', 'domain.json')\n",
    "total = data.df.shape[0]\n",
    "display(data.df.head())\n",
    "display(data.domain)"
   ]
  },
  {
   "cell_type": "code",
   "execution_count": 3,
   "id": "ab2729f7",
   "metadata": {},
   "outputs": [
    {
     "data": {
      "text/plain": [
       "10.008992891756666"
      ]
     },
     "metadata": {},
     "output_type": "display_data"
    }
   ],
   "source": [
    "# Set eps, delta and calculate sigma\n",
    "epsilon = 1.0\n",
    "delta = 1e-9\n",
    "rho = cdp_rho(epsilon, delta)\n",
    "sigma = np.sqrt(3/(2*rho))\n",
    "display(sigma)"
   ]
  },
  {
   "cell_type": "code",
   "execution_count": 4,
   "id": "6a32372b",
   "metadata": {},
   "outputs": [],
   "source": [
    "# MEASURE all the 1-way marginals and log the noisy answers\n",
    "cliques = set(itertools.combinations(data.domain, 1))\n",
    "measurements = []\n",
    "for cl in cliques:\n",
    "    x = data.project(cl).datavector()\n",
    "    y = x + np.random.normal(loc=0, scale=sigma, size=x.shape)\n",
    "    I = sparse.eye(x.size)\n",
    "    measurements.append( (I, y, sigma, cl) )"
   ]
  },
  {
   "cell_type": "code",
   "execution_count": 5,
   "id": "2b3887b6",
   "metadata": {},
   "outputs": [],
   "source": [
    "# GENERATE synthetic data using Private-PGM \n",
    "engine = FactoredInference(data.domain, iters=2000)\n",
    "model = engine.estimate(measurements)\n",
    "synth = model.synthetic_data(rows = total)"
   ]
  },
  {
   "cell_type": "code",
   "execution_count": 6,
   "id": "e2646a99",
   "metadata": {},
   "outputs": [],
   "source": [
    "synth.df.to_csv('baseline_data.csv')"
   ]
  },
  {
   "cell_type": "code",
   "execution_count": 7,
   "id": "41eb4292",
   "metadata": {},
   "outputs": [
    {
     "name": "stdout",
     "output_type": "stream",
     "text": [
      "Average Error 0.0006334775985879736 \n",
      "\n"
     ]
    },
    {
     "data": {
      "text/plain": [
       "isFraud               0.000024\n",
       "CardCategory          0.000121\n",
       "TransAmtDisc          0.000435\n",
       "DaysSinceLastTrans    0.000435\n",
       "Product               0.000459\n",
       "DayOfWeek             0.000580\n",
       "EmailDomain           0.000653\n",
       "Region                0.000653\n",
       "CardType              0.000677\n",
       "Hour                  0.002297\n",
       "dtype: float64"
      ]
     },
     "metadata": {},
     "output_type": "display_data"
    }
   ],
   "source": [
    "# Evaluate the errors on 1-way marginals\n",
    "def score(synth):\n",
    "  errors = {}\n",
    "  for cl in itertools.combinations(data.domain, 1):\n",
    "    true_marginal = data.project(cl).datavector()\n",
    "    est_marginal = synth.project(cl).datavector()\n",
    "    errors[cl] = np.linalg.norm(true_marginal-est_marginal, 1) / data.records\n",
    "\n",
    "  errors = pd.Series(errors).sort_values()\n",
    "\n",
    "  print('Average Error', errors.mean(), '\\n')\n",
    "  return errors\n",
    "\n",
    "df = score(synth)\n",
    "display(df)"
   ]
  },
  {
   "cell_type": "code",
   "execution_count": 8,
   "id": "e64811b3",
   "metadata": {},
   "outputs": [
    {
     "name": "stdout",
     "output_type": "stream",
     "text": [
      "Average Error 0.07861731021865455 \n",
      "\n"
     ]
    },
    {
     "data": {
      "text/plain": [
       "DayOfWeek           isFraud               0.005585\n",
       "CardType            isFraud               0.006649\n",
       "TransAmtDisc        isFraud               0.017263\n",
       "DayOfWeek           CardType              0.017288\n",
       "Hour                isFraud               0.018908\n",
       "DayOfWeek           CardCategory          0.023139\n",
       "                    Region                0.025025\n",
       "CardType            EmailDomain           0.026137\n",
       "EmailDomain         isFraud               0.026790\n",
       "Hour                CardType              0.027273\n",
       "CardType            DaysSinceLastTrans    0.029353\n",
       "Hour                CardCategory          0.029522\n",
       "DayOfWeek           DaysSinceLastTrans    0.032665\n",
       "                    Product               0.032689\n",
       "                    EmailDomain           0.036703\n",
       "DaysSinceLastTrans  isFraud               0.037090\n",
       "TransAmtDisc        CardType              0.037888\n",
       "Region              isFraud               0.039242\n",
       "CardCategory        isFraud               0.043231\n",
       "TransAmtDisc        DayOfWeek             0.046157\n",
       "Hour                EmailDomain           0.051258\n",
       "CardType            Region                0.054474\n",
       "Product             CardType              0.054934\n",
       "Hour                Product               0.058415\n",
       "Product             isFraud               0.063662\n",
       "CardCategory        Region                0.066370\n",
       "Hour                DaysSinceLastTrans    0.067893\n",
       "TransAmtDisc        Hour                  0.068957\n",
       "EmailDomain         DaysSinceLastTrans    0.075582\n",
       "DayOfWeek           Hour                  0.079306\n",
       "Hour                Region                0.089581\n",
       "TransAmtDisc        DaysSinceLastTrans    0.093039\n",
       "CardType            CardCategory          0.093208\n",
       "TransAmtDisc        EmailDomain           0.100655\n",
       "CardCategory        EmailDomain           0.116952\n",
       "Region              DaysSinceLastTrans    0.131700\n",
       "EmailDomain         Region                0.135448\n",
       "TransAmtDisc        CardCategory          0.139583\n",
       "CardCategory        DaysSinceLastTrans    0.152107\n",
       "TransAmtDisc        Region                0.157185\n",
       "Product             EmailDomain           0.161585\n",
       "                    CardCategory          0.180686\n",
       "TransAmtDisc        Product               0.213883\n",
       "Product             DaysSinceLastTrans    0.239222\n",
       "                    Region                0.333495\n",
       "dtype: float64"
      ]
     },
     "metadata": {},
     "output_type": "display_data"
    }
   ],
   "source": [
    "# Evaluate the errors on 2-way marginals\n",
    "def score(synth):\n",
    "  errors = {}\n",
    "  for cl in itertools.combinations(data.domain, 2):\n",
    "    true_marginal = data.project(cl).datavector()\n",
    "    est_marginal = synth.project(cl).datavector()\n",
    "    errors[cl] = np.linalg.norm(true_marginal-est_marginal, 1) / data.records\n",
    "\n",
    "  errors = pd.Series(errors).sort_values()\n",
    "\n",
    "  print('Average Error', errors.mean(), '\\n')\n",
    "  return errors\n",
    "\n",
    "df = score(synth)\n",
    "display(df)\n",
    "df.to_csv('baseline.csv')"
   ]
  },
  {
   "cell_type": "code",
   "execution_count": 9,
   "id": "7b6c0d6b",
   "metadata": {},
   "outputs": [
    {
     "data": {
      "text/html": [
       "<div>\n",
       "<style scoped>\n",
       "    .dataframe tbody tr th:only-of-type {\n",
       "        vertical-align: middle;\n",
       "    }\n",
       "\n",
       "    .dataframe tbody tr th {\n",
       "        vertical-align: top;\n",
       "    }\n",
       "\n",
       "    .dataframe thead th {\n",
       "        text-align: right;\n",
       "    }\n",
       "</style>\n",
       "<table border=\"1\" class=\"dataframe\">\n",
       "  <thead>\n",
       "    <tr style=\"text-align: right;\">\n",
       "      <th></th>\n",
       "      <th>P=1, F=0</th>\n",
       "      <th>P=1, F=1</th>\n",
       "      <th>P=2, F=0</th>\n",
       "      <th>P=2, F=1</th>\n",
       "      <th>P=3, F=0</th>\n",
       "      <th>P=3, F=1</th>\n",
       "      <th>P=4, F=0</th>\n",
       "      <th>P=4, F=1</th>\n",
       "      <th>P=5, F=0</th>\n",
       "      <th>P=5, F=1</th>\n",
       "    </tr>\n",
       "  </thead>\n",
       "  <tbody>\n",
       "    <tr>\n",
       "      <th>Original Data</th>\n",
       "      <td>6672.000000</td>\n",
       "      <td>1171.000000</td>\n",
       "      <td>2140.000000</td>\n",
       "      <td>340.000000</td>\n",
       "      <td>2947.000000</td>\n",
       "      <td>320.00000</td>\n",
       "      <td>1212.000000</td>\n",
       "      <td>79.000000</td>\n",
       "      <td>66475.000000</td>\n",
       "      <td>1362.000000</td>\n",
       "    </tr>\n",
       "    <tr>\n",
       "      <th>Noisy Data</th>\n",
       "      <td>6671.315498</td>\n",
       "      <td>1176.866462</td>\n",
       "      <td>2136.038252</td>\n",
       "      <td>351.206445</td>\n",
       "      <td>2937.791673</td>\n",
       "      <td>315.34517</td>\n",
       "      <td>1205.264635</td>\n",
       "      <td>69.769258</td>\n",
       "      <td>66458.429788</td>\n",
       "      <td>1364.566823</td>\n",
       "    </tr>\n",
       "    <tr>\n",
       "      <th>Synthetic Data</th>\n",
       "      <td>7522.000000</td>\n",
       "      <td>316.000000</td>\n",
       "      <td>2373.000000</td>\n",
       "      <td>93.000000</td>\n",
       "      <td>3134.000000</td>\n",
       "      <td>133.00000</td>\n",
       "      <td>1251.000000</td>\n",
       "      <td>45.000000</td>\n",
       "      <td>65165.000000</td>\n",
       "      <td>2686.000000</td>\n",
       "    </tr>\n",
       "    <tr>\n",
       "      <th>Abs Error</th>\n",
       "      <td>850.000000</td>\n",
       "      <td>855.000000</td>\n",
       "      <td>233.000000</td>\n",
       "      <td>247.000000</td>\n",
       "      <td>187.000000</td>\n",
       "      <td>187.00000</td>\n",
       "      <td>39.000000</td>\n",
       "      <td>34.000000</td>\n",
       "      <td>1310.000000</td>\n",
       "      <td>1324.000000</td>\n",
       "    </tr>\n",
       "  </tbody>\n",
       "</table>\n",
       "</div>"
      ],
      "text/plain": [
       "                   P=1, F=0     P=1, F=1     P=2, F=0    P=2, F=1  \\\n",
       "Original Data   6672.000000  1171.000000  2140.000000  340.000000   \n",
       "Noisy Data      6671.315498  1176.866462  2136.038252  351.206445   \n",
       "Synthetic Data  7522.000000   316.000000  2373.000000   93.000000   \n",
       "Abs Error        850.000000   855.000000   233.000000  247.000000   \n",
       "\n",
       "                   P=3, F=0   P=3, F=1     P=4, F=0   P=4, F=1      P=5, F=0  \\\n",
       "Original Data   2947.000000  320.00000  1212.000000  79.000000  66475.000000   \n",
       "Noisy Data      2937.791673  315.34517  1205.264635  69.769258  66458.429788   \n",
       "Synthetic Data  3134.000000  133.00000  1251.000000  45.000000  65165.000000   \n",
       "Abs Error        187.000000  187.00000    39.000000  34.000000   1310.000000   \n",
       "\n",
       "                   P=5, F=1  \n",
       "Original Data   1362.000000  \n",
       "Noisy Data      1364.566823  \n",
       "Synthetic Data  2686.000000  \n",
       "Abs Error       1324.000000  "
      ]
     },
     "metadata": {},
     "output_type": "display_data"
    }
   ],
   "source": [
    "# Product-Fraud example\n",
    "printmsrmts = []\n",
    "cl = ('Product', 'isFraud')\n",
    "x = data.project(cl).datavector()\n",
    "y = x + np.random.normal(loc=0, scale=sigma, size=x.shape)\n",
    "z = synth.project(cl).datavector()\n",
    "printmsrmts.append( (x, y, z) )\n",
    "    \n",
    "df = pd.DataFrame(np.concatenate(printmsrmts))\n",
    "df.columns = ['P=1, F=0', 'P=1, F=1', 'P=2, F=0', 'P=2, F=1', 'P=3, F=0',\n",
    "             'P=3, F=1', 'P=4, F=0', 'P=4, F=1', 'P=5, F=0', 'P=5, F=1']\n",
    "df.loc[len(df.index)] =  abs(df.loc[0]-df.loc[2])\n",
    "df.index = ['Original Data', 'Noisy Data', 'Synthetic Data', 'Abs Error']\n",
    "\n",
    "display(df)"
   ]
  }
 ],
 "metadata": {
  "kernelspec": {
   "display_name": "Python 3",
   "language": "python",
   "name": "python3"
  },
  "language_info": {
   "codemirror_mode": {
    "name": "ipython",
    "version": 3
   },
   "file_extension": ".py",
   "mimetype": "text/x-python",
   "name": "python",
   "nbconvert_exporter": "python",
   "pygments_lexer": "ipython3",
   "version": "3.9.4"
  }
 },
 "nbformat": 4,
 "nbformat_minor": 5
}
