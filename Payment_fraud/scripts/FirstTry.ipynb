{
 "cells": [
  {
   "cell_type": "code",
   "execution_count": 1,
   "id": "0c36c214",
   "metadata": {
    "scrolled": true
   },
   "outputs": [],
   "source": [
    "import numpy as np\n",
    "import pandas as pd\n",
    "from scipy import sparse\n",
    "import itertools, random\n",
    "from mbi import Dataset, FactoredInference\n",
    "from cdp2adp import cdp_rho"
   ]
  },
  {
   "cell_type": "code",
   "execution_count": 2,
   "id": "fd8f2e9b",
   "metadata": {
    "scrolled": true
   },
   "outputs": [
    {
     "data": {
      "text/html": [
       "<div>\n",
       "<style scoped>\n",
       "    .dataframe tbody tr th:only-of-type {\n",
       "        vertical-align: middle;\n",
       "    }\n",
       "\n",
       "    .dataframe tbody tr th {\n",
       "        vertical-align: top;\n",
       "    }\n",
       "\n",
       "    .dataframe thead th {\n",
       "        text-align: right;\n",
       "    }\n",
       "</style>\n",
       "<table border=\"1\" class=\"dataframe\">\n",
       "  <thead>\n",
       "    <tr style=\"text-align: right;\">\n",
       "      <th></th>\n",
       "      <th>TransAmtDisc</th>\n",
       "      <th>DayOfWeek</th>\n",
       "      <th>Hour</th>\n",
       "      <th>Product</th>\n",
       "      <th>CardType</th>\n",
       "      <th>CardCategory</th>\n",
       "      <th>EmailDomain</th>\n",
       "      <th>Region</th>\n",
       "      <th>DaysSinceLastTrans</th>\n",
       "      <th>isFraud</th>\n",
       "    </tr>\n",
       "  </thead>\n",
       "  <tbody>\n",
       "    <tr>\n",
       "      <th>0</th>\n",
       "      <td>2</td>\n",
       "      <td>2</td>\n",
       "      <td>7</td>\n",
       "      <td>4</td>\n",
       "      <td>1</td>\n",
       "      <td>0</td>\n",
       "      <td>3</td>\n",
       "      <td>0</td>\n",
       "      <td>2</td>\n",
       "      <td>0</td>\n",
       "    </tr>\n",
       "    <tr>\n",
       "      <th>1</th>\n",
       "      <td>0</td>\n",
       "      <td>2</td>\n",
       "      <td>7</td>\n",
       "      <td>4</td>\n",
       "      <td>2</td>\n",
       "      <td>0</td>\n",
       "      <td>3</td>\n",
       "      <td>4</td>\n",
       "      <td>3</td>\n",
       "      <td>0</td>\n",
       "    </tr>\n",
       "    <tr>\n",
       "      <th>2</th>\n",
       "      <td>2</td>\n",
       "      <td>2</td>\n",
       "      <td>7</td>\n",
       "      <td>4</td>\n",
       "      <td>3</td>\n",
       "      <td>1</td>\n",
       "      <td>8</td>\n",
       "      <td>0</td>\n",
       "      <td>3</td>\n",
       "      <td>0</td>\n",
       "    </tr>\n",
       "    <tr>\n",
       "      <th>3</th>\n",
       "      <td>1</td>\n",
       "      <td>2</td>\n",
       "      <td>7</td>\n",
       "      <td>4</td>\n",
       "      <td>2</td>\n",
       "      <td>1</td>\n",
       "      <td>9</td>\n",
       "      <td>0</td>\n",
       "      <td>0</td>\n",
       "      <td>0</td>\n",
       "    </tr>\n",
       "    <tr>\n",
       "      <th>4</th>\n",
       "      <td>1</td>\n",
       "      <td>2</td>\n",
       "      <td>7</td>\n",
       "      <td>1</td>\n",
       "      <td>2</td>\n",
       "      <td>0</td>\n",
       "      <td>3</td>\n",
       "      <td>0</td>\n",
       "      <td>3</td>\n",
       "      <td>0</td>\n",
       "    </tr>\n",
       "  </tbody>\n",
       "</table>\n",
       "</div>"
      ],
      "text/plain": [
       "   TransAmtDisc  DayOfWeek  Hour  Product  CardType  CardCategory  \\\n",
       "0             2          2     7        4         1             0   \n",
       "1             0          2     7        4         2             0   \n",
       "2             2          2     7        4         3             1   \n",
       "3             1          2     7        4         2             1   \n",
       "4             1          2     7        1         2             0   \n",
       "\n",
       "   EmailDomain  Region  DaysSinceLastTrans  isFraud  \n",
       "0            3       0                   2        0  \n",
       "1            3       4                   3        0  \n",
       "2            8       0                   3        0  \n",
       "3            9       0                   0        0  \n",
       "4            3       0                   3        0  "
      ]
     },
     "metadata": {},
     "output_type": "display_data"
    },
    {
     "data": {
      "text/plain": [
       "Domain(TransAmtDisc: 5, DayOfWeek: 7, Hour: 24, Product: 5, CardType: 4, CardCategory: 2, EmailDomain: 10, Region: 6, DaysSinceLastTrans: 4, isFraud: 2)"
      ]
     },
     "metadata": {},
     "output_type": "display_data"
    }
   ],
   "source": [
    "# Load data\n",
    "data = Dataset.load('data.csv', 'domain.json')\n",
    "total = data.df.shape[0]\n",
    "display(data.df.head())\n",
    "display(data.domain)"
   ]
  },
  {
   "cell_type": "code",
   "execution_count": 3,
   "id": "81e00f94",
   "metadata": {},
   "outputs": [
    {
     "data": {
      "text/plain": [
       "10.008992891756666"
      ]
     },
     "metadata": {},
     "output_type": "display_data"
    }
   ],
   "source": [
    "# Set eps, delta and calculate sigma\n",
    "epsilon = 1.0\n",
    "delta = 1e-9\n",
    "rho = cdp_rho(epsilon, delta)\n",
    "sigma = np.sqrt(3/(2*rho))\n",
    "display(sigma)"
   ]
  },
  {
   "cell_type": "code",
   "execution_count": 4,
   "id": "59867fb2",
   "metadata": {},
   "outputs": [],
   "source": [
    "# MEASURE the 1-way marginals and log the noisy answers\n",
    "cliques = [(col,) for col in data.domain]\n",
    "\n",
    "measurements_1d = []\n",
    "for cl in cliques:\n",
    "    x = data.project(cl).datavector()\n",
    "    y = x + np.random.normal(loc=0, scale=sigma, size=x.size)\n",
    "    I = sparse.eye(x.size)\n",
    "    measurements_1d.append( (I, y, sigma, cl) )"
   ]
  },
  {
   "cell_type": "code",
   "execution_count": 5,
   "id": "d9b10651",
   "metadata": {},
   "outputs": [],
   "source": [
    "# SELECT the marginals we'd like to measure\n",
    "cliques = [('DayOfWeek', 'Hour'),\n",
    "('Product', 'CardCategory'),\n",
    "('Product', 'CardType'),\n",
    "('Product', 'DaysSinceLastTrans'),\n",
    "('Product', 'EmailDomain'),\n",
    "('Product', 'Region'),\n",
    "('Product', 'isFraud'),\n",
    "('TransAmtDisc','EmailDomain'),\n",
    "('TransAmtDisc', 'Product'),\n",
    "('TransAmtDisc', 'Region')]"
   ]
  },
  {
   "cell_type": "code",
   "execution_count": 6,
   "id": "d199633a",
   "metadata": {},
   "outputs": [],
   "source": [
    "# MEASURE the selected 2-way marginals and log the noisy answers\n",
    "measurements_2d = []\n",
    "for cl in cliques:\n",
    "    x = data.project(cl).datavector()\n",
    "    y = x + np.random.normal(loc=0, scale=sigma, size=x.size)\n",
    "    I = sparse.eye(x.size)\n",
    "    measurements_2d.append( (I, y, sigma, cl) )"
   ]
  },
  {
   "cell_type": "code",
   "execution_count": 7,
   "id": "2b3887b6",
   "metadata": {},
   "outputs": [],
   "source": [
    "# GENERATE synthetic data using Private-PGM \n",
    "engine = FactoredInference(data.domain, iters=2000)\n",
    "model = engine.estimate(measurements_1d+measurements_2d)\n",
    "synth = model.synthetic_data(rows = total)"
   ]
  },
  {
   "cell_type": "code",
   "execution_count": 8,
   "id": "1b623b61",
   "metadata": {},
   "outputs": [
    {
     "name": "stdout",
     "output_type": "stream",
     "text": [
      "Average Error 0.000432 \n",
      "\n"
     ]
    },
    {
     "data": {
      "text/plain": [
       "CardCategory          0.00014\n",
       "DaysSinceLastTrans    0.00014\n",
       "Region                0.00018\n",
       "CardType              0.00024\n",
       "isFraud               0.00026\n",
       "Product               0.00028\n",
       "TransAmtDisc          0.00030\n",
       "EmailDomain           0.00046\n",
       "DayOfWeek             0.00066\n",
       "Hour                  0.00166\n",
       "dtype: float64"
      ]
     },
     "metadata": {},
     "output_type": "display_data"
    }
   ],
   "source": [
    "# Evaluate the errors on 1-way marginals\n",
    "def score(synth):\n",
    "  errors = {}\n",
    "  for cl in itertools.combinations(data.domain, 1):\n",
    "    true_marginal = data.project(cl).datavector()\n",
    "    est_marginal = synth.project(cl).datavector()\n",
    "    errors[cl] = np.linalg.norm(true_marginal-est_marginal, 1) / data.records\n",
    "\n",
    "  errors = pd.Series(errors).sort_values()\n",
    "\n",
    "  print('Average Error', errors.mean(), '\\n')\n",
    "  return errors\n",
    "\n",
    "df = score(synth)\n",
    "display(df)"
   ]
  },
  {
   "cell_type": "code",
   "execution_count": 9,
   "id": "e64811b3",
   "metadata": {},
   "outputs": [
    {
     "name": "stdout",
     "output_type": "stream",
     "text": [
      "Average Error 0.034235111111111105 \n",
      "\n"
     ]
    },
    {
     "data": {
      "text/plain": [
       "Product             CardCategory          0.00056\n",
       "CardType            isFraud               0.00064\n",
       "Product             isFraud               0.00074\n",
       "                    DaysSinceLastTrans    0.00136\n",
       "TransAmtDisc        Product               0.00186\n",
       "                    Region                0.00192\n",
       "Product             CardType              0.00222\n",
       "Region              isFraud               0.00264\n",
       "Product             Region                0.00312\n",
       "                    EmailDomain           0.00366\n",
       "TransAmtDisc        EmailDomain           0.00376\n",
       "DayOfWeek           isFraud               0.00546\n",
       "Hour                isFraud               0.00936\n",
       "DaysSinceLastTrans  isFraud               0.01006\n",
       "DayOfWeek           CardType              0.01144\n",
       "CardType            DaysSinceLastTrans    0.01164\n",
       "DayOfWeek           Hour                  0.01220\n",
       "TransAmtDisc        isFraud               0.01312\n",
       "CardCategory        isFraud               0.01524\n",
       "EmailDomain         isFraud               0.01626\n",
       "CardCategory        Region                0.02116\n",
       "TransAmtDisc        CardType              0.02206\n",
       "Region              DaysSinceLastTrans    0.02476\n",
       "CardType            EmailDomain           0.02680\n",
       "Hour                CardType              0.03008\n",
       "EmailDomain         DaysSinceLastTrans    0.03066\n",
       "CardType            Region                0.03368\n",
       "DayOfWeek           Region                0.03462\n",
       "                    DaysSinceLastTrans    0.03618\n",
       "TransAmtDisc        DayOfWeek             0.04436\n",
       "Hour                CardCategory          0.04562\n",
       "DayOfWeek           EmailDomain           0.04730\n",
       "EmailDomain         Region                0.04938\n",
       "Hour                DaysSinceLastTrans    0.05148\n",
       "TransAmtDisc        DaysSinceLastTrans    0.05734\n",
       "Hour                EmailDomain           0.06324\n",
       "DayOfWeek           CardCategory          0.06390\n",
       "CardCategory        DaysSinceLastTrans    0.06476\n",
       "DayOfWeek           Product               0.06500\n",
       "TransAmtDisc        Hour                  0.07498\n",
       "CardCategory        EmailDomain           0.07682\n",
       "CardType            CardCategory          0.10748\n",
       "Hour                Product               0.10964\n",
       "                    Region                0.11154\n",
       "TransAmtDisc        CardCategory          0.12048\n",
       "dtype: float64"
      ]
     },
     "metadata": {},
     "output_type": "display_data"
    }
   ],
   "source": [
    "# Evaluate the errors on 2-way marginals\n",
    "def score(synth):\n",
    "  errors = {}\n",
    "  for cl in itertools.combinations(data.domain, 2):\n",
    "    true_marginal = data.project(cl).datavector()\n",
    "    est_marginal = synth.project(cl).datavector()\n",
    "    errors[cl] = np.linalg.norm(true_marginal-est_marginal, 1) / data.records\n",
    "\n",
    "  errors = pd.Series(errors).sort_values()\n",
    "\n",
    "  print('Average Error', errors.mean(), '\\n')\n",
    "  return errors\n",
    "\n",
    "df = score(synth)\n",
    "display(df)"
   ]
  },
  {
   "cell_type": "code",
   "execution_count": 10,
   "id": "189aa5b6",
   "metadata": {},
   "outputs": [
    {
     "data": {
      "text/html": [
       "<div>\n",
       "<style scoped>\n",
       "    .dataframe tbody tr th:only-of-type {\n",
       "        vertical-align: middle;\n",
       "    }\n",
       "\n",
       "    .dataframe tbody tr th {\n",
       "        vertical-align: top;\n",
       "    }\n",
       "\n",
       "    .dataframe thead th {\n",
       "        text-align: right;\n",
       "    }\n",
       "</style>\n",
       "<table border=\"1\" class=\"dataframe\">\n",
       "  <thead>\n",
       "    <tr style=\"text-align: right;\">\n",
       "      <th></th>\n",
       "      <th>P=1, F=0</th>\n",
       "      <th>P=1, F=1</th>\n",
       "      <th>P=2, F=0</th>\n",
       "      <th>P=2, F=1</th>\n",
       "      <th>P=3, F=0</th>\n",
       "      <th>P=3, F=1</th>\n",
       "      <th>P=4, F=0</th>\n",
       "      <th>P=4, F=1</th>\n",
       "      <th>P=5, F=0</th>\n",
       "      <th>P=5, F=1</th>\n",
       "    </tr>\n",
       "  </thead>\n",
       "  <tbody>\n",
       "    <tr>\n",
       "      <th>Original Data</th>\n",
       "      <td>9339.000000</td>\n",
       "      <td>1001.000000</td>\n",
       "      <td>15356.000000</td>\n",
       "      <td>302.000000</td>\n",
       "      <td>13926.000000</td>\n",
       "      <td>138.000000</td>\n",
       "      <td>2478.000000</td>\n",
       "      <td>60.000000</td>\n",
       "      <td>56342.000000</td>\n",
       "      <td>1058.000000</td>\n",
       "    </tr>\n",
       "    <tr>\n",
       "      <th>Noisy Data</th>\n",
       "      <td>9351.354801</td>\n",
       "      <td>1009.501945</td>\n",
       "      <td>15342.913227</td>\n",
       "      <td>296.326562</td>\n",
       "      <td>13931.323136</td>\n",
       "      <td>145.407874</td>\n",
       "      <td>2482.929315</td>\n",
       "      <td>39.070771</td>\n",
       "      <td>56360.320213</td>\n",
       "      <td>1062.905063</td>\n",
       "    </tr>\n",
       "    <tr>\n",
       "      <th>Synthetic Data</th>\n",
       "      <td>9331.000000</td>\n",
       "      <td>1017.000000</td>\n",
       "      <td>15366.000000</td>\n",
       "      <td>298.000000</td>\n",
       "      <td>13928.000000</td>\n",
       "      <td>133.000000</td>\n",
       "      <td>2479.000000</td>\n",
       "      <td>52.000000</td>\n",
       "      <td>56350.000000</td>\n",
       "      <td>1046.000000</td>\n",
       "    </tr>\n",
       "    <tr>\n",
       "      <th>Abs Error</th>\n",
       "      <td>8.000000</td>\n",
       "      <td>16.000000</td>\n",
       "      <td>10.000000</td>\n",
       "      <td>4.000000</td>\n",
       "      <td>2.000000</td>\n",
       "      <td>5.000000</td>\n",
       "      <td>1.000000</td>\n",
       "      <td>8.000000</td>\n",
       "      <td>8.000000</td>\n",
       "      <td>12.000000</td>\n",
       "    </tr>\n",
       "  </tbody>\n",
       "</table>\n",
       "</div>"
      ],
      "text/plain": [
       "                   P=1, F=0     P=1, F=1      P=2, F=0    P=2, F=1  \\\n",
       "Original Data   9339.000000  1001.000000  15356.000000  302.000000   \n",
       "Noisy Data      9351.354801  1009.501945  15342.913227  296.326562   \n",
       "Synthetic Data  9331.000000  1017.000000  15366.000000  298.000000   \n",
       "Abs Error          8.000000    16.000000     10.000000    4.000000   \n",
       "\n",
       "                    P=3, F=0    P=3, F=1     P=4, F=0   P=4, F=1  \\\n",
       "Original Data   13926.000000  138.000000  2478.000000  60.000000   \n",
       "Noisy Data      13931.323136  145.407874  2482.929315  39.070771   \n",
       "Synthetic Data  13928.000000  133.000000  2479.000000  52.000000   \n",
       "Abs Error           2.000000    5.000000     1.000000   8.000000   \n",
       "\n",
       "                    P=5, F=0     P=5, F=1  \n",
       "Original Data   56342.000000  1058.000000  \n",
       "Noisy Data      56360.320213  1062.905063  \n",
       "Synthetic Data  56350.000000  1046.000000  \n",
       "Abs Error           8.000000    12.000000  "
      ]
     },
     "metadata": {},
     "output_type": "display_data"
    }
   ],
   "source": [
    "# Product-Fraud example\n",
    "printmsrmts = []\n",
    "cl = ('Product', 'isFraud')\n",
    "x = data.project(cl).datavector()\n",
    "y = x + np.random.normal(loc=0, scale=sigma, size=x.shape)\n",
    "z = synth.project(cl).datavector()\n",
    "printmsrmts.append( (x, y, z) )\n",
    "    \n",
    "df = pd.DataFrame(np.concatenate(printmsrmts))\n",
    "df.columns = ['P=1, F=0', 'P=1, F=1', 'P=2, F=0', 'P=2, F=1', 'P=3, F=0',\n",
    "             'P=3, F=1', 'P=4, F=0', 'P=4, F=1', 'P=5, F=0', 'P=5, F=1']\n",
    "df.loc[len(df.index)] =  abs(df.loc[0]-df.loc[2])\n",
    "df.index = ['Original Data', 'Noisy Data', 'Synthetic Data', 'Abs Error']\n",
    "\n",
    "display(df)"
   ]
  }
 ],
 "metadata": {
  "kernelspec": {
   "display_name": "Python 3",
   "language": "python",
   "name": "python3"
  },
  "language_info": {
   "codemirror_mode": {
    "name": "ipython",
    "version": 3
   },
   "file_extension": ".py",
   "mimetype": "text/x-python",
   "name": "python",
   "nbconvert_exporter": "python",
   "pygments_lexer": "ipython3",
   "version": "3.9.4"
  }
 },
 "nbformat": 4,
 "nbformat_minor": 5
}
