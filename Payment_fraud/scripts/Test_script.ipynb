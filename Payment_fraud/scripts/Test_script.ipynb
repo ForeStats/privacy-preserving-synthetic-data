{
 "cells": [
  {
   "cell_type": "code",
   "execution_count": 1,
   "id": "0c36c214",
   "metadata": {
    "scrolled": true
   },
   "outputs": [],
   "source": [
    "import numpy as np\n",
    "import pandas as pd\n",
    "from scipy import sparse\n",
    "import matplotlib.pyplot as plt\n",
    "import itertools, random\n",
    "from mbi import Dataset, FactoredInference, PublicInference, MixtureInference, LocalInference"
   ]
  },
  {
   "cell_type": "code",
   "execution_count": 2,
   "id": "fd8f2e9b",
   "metadata": {},
   "outputs": [],
   "source": [
    "data = Dataset.load('data.csv', 'domain.json')\n",
    "total = data.df.shape[0]"
   ]
  },
  {
   "cell_type": "code",
   "execution_count": 3,
   "id": "d1f4c09b",
   "metadata": {
    "scrolled": false
   },
   "outputs": [
    {
     "data": {
      "text/html": [
       "<div>\n",
       "<style scoped>\n",
       "    .dataframe tbody tr th:only-of-type {\n",
       "        vertical-align: middle;\n",
       "    }\n",
       "\n",
       "    .dataframe tbody tr th {\n",
       "        vertical-align: top;\n",
       "    }\n",
       "\n",
       "    .dataframe thead th {\n",
       "        text-align: right;\n",
       "    }\n",
       "</style>\n",
       "<table border=\"1\" class=\"dataframe\">\n",
       "  <thead>\n",
       "    <tr style=\"text-align: right;\">\n",
       "      <th></th>\n",
       "      <th>TransAmtDisc</th>\n",
       "      <th>DayOfWeek</th>\n",
       "      <th>Hour</th>\n",
       "      <th>Product</th>\n",
       "      <th>CardType</th>\n",
       "      <th>CardCategory</th>\n",
       "      <th>EmailDomain</th>\n",
       "      <th>Region</th>\n",
       "      <th>DaysSinceLastTrans</th>\n",
       "      <th>isFraud</th>\n",
       "    </tr>\n",
       "  </thead>\n",
       "  <tbody>\n",
       "    <tr>\n",
       "      <th>0</th>\n",
       "      <td>2</td>\n",
       "      <td>2</td>\n",
       "      <td>7</td>\n",
       "      <td>4</td>\n",
       "      <td>1</td>\n",
       "      <td>0</td>\n",
       "      <td>3</td>\n",
       "      <td>0</td>\n",
       "      <td>2</td>\n",
       "      <td>0</td>\n",
       "    </tr>\n",
       "    <tr>\n",
       "      <th>1</th>\n",
       "      <td>0</td>\n",
       "      <td>2</td>\n",
       "      <td>7</td>\n",
       "      <td>4</td>\n",
       "      <td>2</td>\n",
       "      <td>0</td>\n",
       "      <td>3</td>\n",
       "      <td>4</td>\n",
       "      <td>3</td>\n",
       "      <td>0</td>\n",
       "    </tr>\n",
       "    <tr>\n",
       "      <th>2</th>\n",
       "      <td>2</td>\n",
       "      <td>2</td>\n",
       "      <td>7</td>\n",
       "      <td>4</td>\n",
       "      <td>3</td>\n",
       "      <td>1</td>\n",
       "      <td>8</td>\n",
       "      <td>0</td>\n",
       "      <td>3</td>\n",
       "      <td>0</td>\n",
       "    </tr>\n",
       "    <tr>\n",
       "      <th>3</th>\n",
       "      <td>1</td>\n",
       "      <td>2</td>\n",
       "      <td>7</td>\n",
       "      <td>4</td>\n",
       "      <td>2</td>\n",
       "      <td>1</td>\n",
       "      <td>9</td>\n",
       "      <td>0</td>\n",
       "      <td>0</td>\n",
       "      <td>0</td>\n",
       "    </tr>\n",
       "    <tr>\n",
       "      <th>4</th>\n",
       "      <td>1</td>\n",
       "      <td>2</td>\n",
       "      <td>7</td>\n",
       "      <td>1</td>\n",
       "      <td>2</td>\n",
       "      <td>0</td>\n",
       "      <td>3</td>\n",
       "      <td>0</td>\n",
       "      <td>3</td>\n",
       "      <td>0</td>\n",
       "    </tr>\n",
       "  </tbody>\n",
       "</table>\n",
       "</div>"
      ],
      "text/plain": [
       "   TransAmtDisc  DayOfWeek  Hour  Product  CardType  CardCategory  \\\n",
       "0             2          2     7        4         1             0   \n",
       "1             0          2     7        4         2             0   \n",
       "2             2          2     7        4         3             1   \n",
       "3             1          2     7        4         2             1   \n",
       "4             1          2     7        1         2             0   \n",
       "\n",
       "   EmailDomain  Region  DaysSinceLastTrans  isFraud  \n",
       "0            3       0                   2        0  \n",
       "1            3       4                   3        0  \n",
       "2            8       0                   3        0  \n",
       "3            9       0                   0        0  \n",
       "4            3       0                   3        0  "
      ]
     },
     "metadata": {},
     "output_type": "display_data"
    }
   ],
   "source": [
    "display(data.df.head())"
   ]
  },
  {
   "cell_type": "code",
   "execution_count": 4,
   "id": "76de6ef7",
   "metadata": {},
   "outputs": [
    {
     "data": {
      "text/plain": [
       "Domain(TransAmtDisc: 5, DayOfWeek: 7, Hour: 24, Product: 5, CardType: 4, CardCategory: 2, EmailDomain: 10, Region: 6, DaysSinceLastTrans: 4, isFraud: 2)"
      ]
     },
     "metadata": {},
     "output_type": "display_data"
    }
   ],
   "source": [
    "display(data.domain)"
   ]
  },
  {
   "cell_type": "code",
   "execution_count": 5,
   "id": "ab2729f7",
   "metadata": {},
   "outputs": [],
   "source": [
    "# SELECT the marginals we'd like to measure\n",
    "cliques = [('DayOfWeek', 'Hour'),\n",
    "('Product', 'CardCategory'),\n",
    "('Product', 'CardType'),\n",
    "('Product','DaysSinceLastTrans'),\n",
    "('Product', 'EmailDomain'),\n",
    "('Product', 'Region'),\n",
    "('Product', 'isFraud'),\n",
    "('TransAmtDisc','EmailDomain'),\n",
    "('TransAmtDisc', 'Product'),\n",
    "('TransAmtDisc', 'Region')]"
   ]
  },
  {
   "cell_type": "code",
   "execution_count": 6,
   "id": "6a32372b",
   "metadata": {},
   "outputs": [],
   "source": [
    "# MEASURE the marginals and log the noisy answers\n",
    "sigma = 50\n",
    "measurements = []\n",
    "for cl in cliques:\n",
    "    x = data.project(cl).datavector()\n",
    "    y = x + np.random.normal(loc=0, scale=sigma, size=x.shape)\n",
    "    I = sparse.eye(x.size)\n",
    "    measurements.append( (I, y, sigma, cl) )"
   ]
  },
  {
   "cell_type": "code",
   "execution_count": 7,
   "id": "2b3887b6",
   "metadata": {},
   "outputs": [],
   "source": [
    "# GENERATE synthetic data using Private-PGM \n",
    "engine = FactoredInference(data.domain, iters=2500)\n",
    "model = engine.estimate(measurements)\n",
    "synth = model.synthetic_data(rows = total)"
   ]
  },
  {
   "cell_type": "code",
   "execution_count": 8,
   "id": "1b584cd2",
   "metadata": {},
   "outputs": [
    {
     "data": {
      "text/html": [
       "<div>\n",
       "<style scoped>\n",
       "    .dataframe tbody tr th:only-of-type {\n",
       "        vertical-align: middle;\n",
       "    }\n",
       "\n",
       "    .dataframe tbody tr th {\n",
       "        vertical-align: top;\n",
       "    }\n",
       "\n",
       "    .dataframe thead th {\n",
       "        text-align: right;\n",
       "    }\n",
       "</style>\n",
       "<table border=\"1\" class=\"dataframe\">\n",
       "  <thead>\n",
       "    <tr style=\"text-align: right;\">\n",
       "      <th></th>\n",
       "      <th>P=1, F=0</th>\n",
       "      <th>P=1, F=1</th>\n",
       "      <th>P=2, F=0</th>\n",
       "      <th>P=2, F=1</th>\n",
       "      <th>P=3, F=0</th>\n",
       "      <th>P=3, F=1</th>\n",
       "      <th>P=4, F=0</th>\n",
       "      <th>P=4, F=1</th>\n",
       "      <th>P=5, F=0</th>\n",
       "      <th>P=5, F=1</th>\n",
       "    </tr>\n",
       "  </thead>\n",
       "  <tbody>\n",
       "    <tr>\n",
       "      <th>Original Data</th>\n",
       "      <td>9339.000000</td>\n",
       "      <td>1001.000000</td>\n",
       "      <td>15356.000000</td>\n",
       "      <td>302.000000</td>\n",
       "      <td>13926.000000</td>\n",
       "      <td>138.000000</td>\n",
       "      <td>2478.000000</td>\n",
       "      <td>60.000000</td>\n",
       "      <td>56342.000000</td>\n",
       "      <td>1058.00000</td>\n",
       "    </tr>\n",
       "    <tr>\n",
       "      <th>Noisy Data</th>\n",
       "      <td>9391.320618</td>\n",
       "      <td>1040.693116</td>\n",
       "      <td>15328.804163</td>\n",
       "      <td>340.846802</td>\n",
       "      <td>13972.238709</td>\n",
       "      <td>74.626392</td>\n",
       "      <td>2467.307433</td>\n",
       "      <td>137.789367</td>\n",
       "      <td>56435.680734</td>\n",
       "      <td>1066.64032</td>\n",
       "    </tr>\n",
       "    <tr>\n",
       "      <th>Synthetic Data</th>\n",
       "      <td>9329.000000</td>\n",
       "      <td>1002.000000</td>\n",
       "      <td>15381.000000</td>\n",
       "      <td>238.000000</td>\n",
       "      <td>13929.000000</td>\n",
       "      <td>168.000000</td>\n",
       "      <td>2578.000000</td>\n",
       "      <td>6.000000</td>\n",
       "      <td>56337.000000</td>\n",
       "      <td>1032.00000</td>\n",
       "    </tr>\n",
       "  </tbody>\n",
       "</table>\n",
       "</div>"
      ],
      "text/plain": [
       "                   P=1, F=0     P=1, F=1      P=2, F=0    P=2, F=1  \\\n",
       "Original Data   9339.000000  1001.000000  15356.000000  302.000000   \n",
       "Noisy Data      9391.320618  1040.693116  15328.804163  340.846802   \n",
       "Synthetic Data  9329.000000  1002.000000  15381.000000  238.000000   \n",
       "\n",
       "                    P=3, F=0    P=3, F=1     P=4, F=0    P=4, F=1  \\\n",
       "Original Data   13926.000000  138.000000  2478.000000   60.000000   \n",
       "Noisy Data      13972.238709   74.626392  2467.307433  137.789367   \n",
       "Synthetic Data  13929.000000  168.000000  2578.000000    6.000000   \n",
       "\n",
       "                    P=5, F=0    P=5, F=1  \n",
       "Original Data   56342.000000  1058.00000  \n",
       "Noisy Data      56435.680734  1066.64032  \n",
       "Synthetic Data  56337.000000  1032.00000  "
      ]
     },
     "metadata": {},
     "output_type": "display_data"
    }
   ],
   "source": [
    "# MEASURE the marginals and log the noisy answers\n",
    "sigma = 50\n",
    "printmsrmts = []\n",
    "cl = ('Product', 'isFraud')\n",
    "x = data.project(cl).datavector()\n",
    "y = x + np.random.normal(loc=0, scale=sigma, size=x.shape)\n",
    "z = synth.project(cl).datavector()\n",
    "printmsrmts.append( (x, y, z) )\n",
    "    \n",
    "df = pd.DataFrame(np.concatenate(printmsrmts))\n",
    "df.columns = ['P=1, F=0', 'P=1, F=1', 'P=2, F=0', 'P=2, F=1', 'P=3, F=0',\n",
    "             'P=3, F=1', 'P=4, F=0', 'P=4, F=1', 'P=5, F=0', 'P=5, F=1']\n",
    "df.index = ['Original Data', 'Noisy Data', 'Synthetic Data']\n",
    "\n",
    "display(df)"
   ]
  },
  {
   "cell_type": "code",
   "execution_count": 9,
   "id": "3b0fab88",
   "metadata": {},
   "outputs": [
    {
     "data": {
      "text/plain": [
       "Text(0, 0.5, '$L_1$ Error')"
      ]
     },
     "execution_count": 9,
     "metadata": {},
     "output_type": "execute_result"
    },
    {
     "data": {
      "image/png": "[encoded data removed]",
      "text/plain": [
       "<Figure size 432x288 with 1 Axes>"
      ]
     },
     "metadata": {
      "needs_background": "light"
     },
     "output_type": "display_data"
    }
   ],
   "source": [
    "noisy_error = []\n",
    "synth_error = []\n",
    "\n",
    "for I, y, sigma, cl in measurements:\n",
    "  z = synth.project(cl).datavector()\n",
    "  x = data.project(cl).datavector()\n",
    "  noisy_error.append(np.linalg.norm(x-y,1)/data.records)\n",
    "  synth_error.append(np.linalg.norm(x-z,1)/data.records)\n",
    "  #print(cl, np.linalg.norm(x-y,1)/data.records, np.linalg.norm(x-z,1)/data.records)\n",
    "\n",
    "df = pd.DataFrame({'Noisy Marginals' : noisy_error, 'Synthetic Data': synth_error })\n",
    "df.index = cliques\n",
    "df.plot.barh()\n",
    "plt.legend(fontsize='x-large')\n",
    "plt.ylabel('$L_1$ Error', fontsize='x-large')"
   ]
  },
  {
   "cell_type": "code",
   "execution_count": 10,
   "id": "748ff915",
   "metadata": {},
   "outputs": [
    {
     "name": "stderr",
     "output_type": "stream",
     "text": [
      "<ipython-input-10-012881f9edd5>:3: DeprecationWarning: Sampling from a set deprecated\n",
      "since Python 3.9 and will be removed in a subsequent version.\n",
      "  cliques2 = random.sample(cliques2, 10)\n"
     ]
    },
    {
     "data": {
      "text/plain": [
       "Text(0, 0.5, '$L_1$ Error')"
      ]
     },
     "execution_count": 10,
     "metadata": {},
     "output_type": "execute_result"
    },
    {
     "data": {
      "image/png": "[encoded data removed]",
      "text/plain": [
       "<Figure size 432x288 with 1 Axes>"
      ]
     },
     "metadata": {
      "needs_background": "light"
     },
     "output_type": "display_data"
    }
   ],
   "source": [
    "synth_error = []\n",
    "cliques2 = set(itertools.combinations(data.domain, 2)) - set(cliques)\n",
    "cliques2 = random.sample(cliques2, 10)\n",
    "\n",
    "for cl in cliques2:\n",
    "  x = data.project(cl).datavector()\n",
    "  y = synth.project(cl).datavector()\n",
    "  synth_error.append(np.linalg.norm(x-y,1)/data.records)\n",
    "  #print(cl, np.linalg.norm(x-y,1)/data.records)\n",
    "\n",
    "df = pd.DataFrame({'Synthetic Data' : synth_error})\n",
    "df.index = cliques2\n",
    "df.plot.barh(color='#ff7f0e')\n",
    "plt.xlim(0,max(synth_error) + 0.05)\n",
    "plt.legend(fontsize='x-large')\n",
    "plt.ylabel('$L_1$ Error', fontsize='x-large')"
   ]
  },
  {
   "cell_type": "code",
   "execution_count": 11,
   "id": "e64811b3",
   "metadata": {},
   "outputs": [
    {
     "name": "stdout",
     "output_type": "stream",
     "text": [
      "Average Error 0.038733777777777784 \n",
      "\n"
     ]
    },
    {
     "data": {
      "text/plain": [
       "Product             CardCategory          0.00284\n",
       "                    isFraud               0.00318\n",
       "CardType            isFraud               0.00372\n",
       "Region              isFraud               0.00492\n",
       "Product             DaysSinceLastTrans    0.00778\n",
       "TransAmtDisc        Product               0.00816\n",
       "Product             CardType              0.00864\n",
       "                    Region                0.01084\n",
       "TransAmtDisc        isFraud               0.01106\n",
       "DaysSinceLastTrans  isFraud               0.01136\n",
       "CardType            DaysSinceLastTrans    0.01164\n",
       "DayOfWeek           isFraud               0.01194\n",
       "TransAmtDisc        Region                0.01236\n",
       "CardCategory        isFraud               0.01568\n",
       "DayOfWeek           CardType              0.01608\n",
       "TransAmtDisc        EmailDomain           0.01752\n",
       "Product             EmailDomain           0.01902\n",
       "Hour                isFraud               0.02186\n",
       "Region              DaysSinceLastTrans    0.02312\n",
       "EmailDomain         isFraud               0.02328\n",
       "TransAmtDisc        CardType              0.02496\n",
       "CardCategory        Region                0.02698\n",
       "DayOfWeek           Region                0.02818\n",
       "CardType            EmailDomain           0.03106\n",
       "Hour                CardType              0.03118\n",
       "EmailDomain         DaysSinceLastTrans    0.03162\n",
       "DayOfWeek           DaysSinceLastTrans    0.03854\n",
       "CardType            Region                0.03966\n",
       "TransAmtDisc        DayOfWeek             0.04294\n",
       "DayOfWeek           EmailDomain           0.04750\n",
       "Hour                CardCategory          0.04970\n",
       "EmailDomain         Region                0.05186\n",
       "Hour                DaysSinceLastTrans    0.05422\n",
       "TransAmtDisc        DaysSinceLastTrans    0.06004\n",
       "DayOfWeek           CardCategory          0.06080\n",
       "                    Hour                  0.06698\n",
       "CardCategory        DaysSinceLastTrans    0.06802\n",
       "DayOfWeek           Product               0.06916\n",
       "Hour                EmailDomain           0.07042\n",
       "TransAmtDisc        Hour                  0.07784\n",
       "CardCategory        EmailDomain           0.08326\n",
       "Hour                Product               0.10596\n",
       "CardType            CardCategory          0.10598\n",
       "Hour                Region                0.10912\n",
       "TransAmtDisc        CardCategory          0.12204\n",
       "dtype: float64"
      ]
     },
     "metadata": {},
     "output_type": "display_data"
    }
   ],
   "source": [
    "# Evaluate the quality of the synthetic data on 2-way marginals\n",
    "# Try modifying cliques above to see if you can reduce error!\n",
    "\n",
    "def score(synth):\n",
    "  errors = {}\n",
    "  for cl in itertools.combinations(data.domain, 2):\n",
    "    true_marginal = data.project(cl).datavector()\n",
    "    est_marginal = synth.project(cl).datavector()\n",
    "    errors[cl] = np.linalg.norm(true_marginal-est_marginal, 1) / data.records\n",
    "\n",
    "  errors = pd.Series(errors).sort_values()\n",
    "\n",
    "  print('Average Error', errors.mean(), '\\n')\n",
    "  return errors\n",
    "  \n",
    "display(score(synth))"
   ]
  }
 ],
 "metadata": {
  "kernelspec": {
   "display_name": "Python 3",
   "language": "python",
   "name": "python3"
  },
  "language_info": {
   "codemirror_mode": {
    "name": "ipython",
    "version": 3
   },
   "file_extension": ".py",
   "mimetype": "text/x-python",
   "name": "python",
   "nbconvert_exporter": "python",
   "pygments_lexer": "ipython3",
   "version": "3.9.4"
  }
 },
 "nbformat": 4,
 "nbformat_minor": 5
}
