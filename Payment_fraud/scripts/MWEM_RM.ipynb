{
 "cells": [
  {
   "cell_type": "code",
   "execution_count": 1,
   "id": "0c36c214",
   "metadata": {
    "scrolled": true
   },
   "outputs": [],
   "source": [
    "import numpy as np\n",
    "import pandas as pd\n",
    "import itertools\n",
    "from mbi import Dataset, GraphicalModel, FactoredInference\n",
    "from scipy.special import softmax\n",
    "from scipy import sparse\n",
    "from cdp2adp import cdp_rho\n",
    "from mwemhelpers import mwem_pgm, worst_approximated"
   ]
  },
  {
   "cell_type": "code",
   "execution_count": 2,
   "id": "fd8f2e9b",
   "metadata": {
    "scrolled": true
   },
   "outputs": [
    {
     "data": {
      "text/html": [
       "<div>\n",
       "<style scoped>\n",
       "    .dataframe tbody tr th:only-of-type {\n",
       "        vertical-align: middle;\n",
       "    }\n",
       "\n",
       "    .dataframe tbody tr th {\n",
       "        vertical-align: top;\n",
       "    }\n",
       "\n",
       "    .dataframe thead th {\n",
       "        text-align: right;\n",
       "    }\n",
       "</style>\n",
       "<table border=\"1\" class=\"dataframe\">\n",
       "  <thead>\n",
       "    <tr style=\"text-align: right;\">\n",
       "      <th></th>\n",
       "      <th>TransAmtDisc</th>\n",
       "      <th>DayOfWeek</th>\n",
       "      <th>Hour</th>\n",
       "      <th>Product</th>\n",
       "      <th>CardType</th>\n",
       "      <th>CardCategory</th>\n",
       "      <th>EmailDomain</th>\n",
       "      <th>Region</th>\n",
       "      <th>DaysSinceLastTrans</th>\n",
       "      <th>isFraud</th>\n",
       "    </tr>\n",
       "  </thead>\n",
       "  <tbody>\n",
       "    <tr>\n",
       "      <th>0</th>\n",
       "      <td>2</td>\n",
       "      <td>2</td>\n",
       "      <td>7</td>\n",
       "      <td>4</td>\n",
       "      <td>1</td>\n",
       "      <td>0</td>\n",
       "      <td>3</td>\n",
       "      <td>0</td>\n",
       "      <td>2</td>\n",
       "      <td>0</td>\n",
       "    </tr>\n",
       "    <tr>\n",
       "      <th>1</th>\n",
       "      <td>0</td>\n",
       "      <td>2</td>\n",
       "      <td>7</td>\n",
       "      <td>4</td>\n",
       "      <td>2</td>\n",
       "      <td>0</td>\n",
       "      <td>3</td>\n",
       "      <td>4</td>\n",
       "      <td>3</td>\n",
       "      <td>0</td>\n",
       "    </tr>\n",
       "    <tr>\n",
       "      <th>2</th>\n",
       "      <td>2</td>\n",
       "      <td>2</td>\n",
       "      <td>7</td>\n",
       "      <td>4</td>\n",
       "      <td>3</td>\n",
       "      <td>1</td>\n",
       "      <td>8</td>\n",
       "      <td>0</td>\n",
       "      <td>3</td>\n",
       "      <td>0</td>\n",
       "    </tr>\n",
       "    <tr>\n",
       "      <th>3</th>\n",
       "      <td>1</td>\n",
       "      <td>2</td>\n",
       "      <td>7</td>\n",
       "      <td>4</td>\n",
       "      <td>2</td>\n",
       "      <td>1</td>\n",
       "      <td>9</td>\n",
       "      <td>0</td>\n",
       "      <td>0</td>\n",
       "      <td>0</td>\n",
       "    </tr>\n",
       "    <tr>\n",
       "      <th>4</th>\n",
       "      <td>1</td>\n",
       "      <td>2</td>\n",
       "      <td>7</td>\n",
       "      <td>1</td>\n",
       "      <td>2</td>\n",
       "      <td>0</td>\n",
       "      <td>3</td>\n",
       "      <td>0</td>\n",
       "      <td>3</td>\n",
       "      <td>0</td>\n",
       "    </tr>\n",
       "  </tbody>\n",
       "</table>\n",
       "</div>"
      ],
      "text/plain": [
       "   TransAmtDisc  DayOfWeek  Hour  Product  CardType  CardCategory  \\\n",
       "0             2          2     7        4         1             0   \n",
       "1             0          2     7        4         2             0   \n",
       "2             2          2     7        4         3             1   \n",
       "3             1          2     7        4         2             1   \n",
       "4             1          2     7        1         2             0   \n",
       "\n",
       "   EmailDomain  Region  DaysSinceLastTrans  isFraud  \n",
       "0            3       0                   2        0  \n",
       "1            3       4                   3        0  \n",
       "2            8       0                   3        0  \n",
       "3            9       0                   0        0  \n",
       "4            3       0                   3        0  "
      ]
     },
     "metadata": {},
     "output_type": "display_data"
    }
   ],
   "source": [
    "data = Dataset.load('data.csv', 'domain.json')\n",
    "total = data.df.shape[0]\n",
    "display(data.df.head())"
   ]
  },
  {
   "cell_type": "code",
   "execution_count": 3,
   "id": "76de6ef7",
   "metadata": {},
   "outputs": [
    {
     "data": {
      "text/plain": [
       "Domain(TransAmtDisc: 5, DayOfWeek: 7, Hour: 24, Product: 5, CardType: 4, CardCategory: 2, EmailDomain: 10, Region: 6, DaysSinceLastTrans: 4, isFraud: 2)"
      ]
     },
     "metadata": {},
     "output_type": "display_data"
    }
   ],
   "source": [
    "display(data.domain)"
   ]
  },
  {
   "cell_type": "code",
   "execution_count": 4,
   "id": "f433ead3",
   "metadata": {},
   "outputs": [
    {
     "name": "stdout",
     "output_type": "stream",
     "text": [
      "Round 1 Selected ('CardType', 'isFraud') Model Size (MB) 0.00052642822265625\n",
      "Round 2 Selected ('Product', 'DaysSinceLastTrans') Model Size (MB) 0.00054168701171875\n",
      "Round 3 Selected ('EmailDomain', 'Region') Model Size (MB) 0.0006256103515625\n",
      "Round 4 Selected ('Hour', 'CardCategory') Model Size (MB) 0.0009613037109375\n",
      "Round 5 Selected ('Product', 'CardCategory') Model Size (MB) 0.001129150390625\n",
      "Round 6 Selected ('Product', 'Region') Model Size (MB) 0.0012054443359375\n",
      "Round 7 Selected ('TransAmtDisc', 'Product') Model Size (MB) 0.001434326171875\n",
      "Round 8 Selected ('DayOfWeek', 'Hour') Model Size (MB) 0.0015869140625\n",
      "Round 9 Selected ('Product', 'EmailDomain') Model Size (MB) 0.00296783447265625\n",
      "Generating Data...\n"
     ]
    }
   ],
   "source": [
    "workload = list(itertools.combinations(data.domain, 2))\n",
    "epsilon = 1.0\n",
    "delta = 1e-9\n",
    "\n",
    "synth = mwem_pgm(data, epsilon, delta, workload=workload, rounds = 9, pgm_iters=2000, noise = 'Gaussian')"
   ]
  },
  {
   "cell_type": "code",
   "execution_count": 5,
   "id": "e64811b3",
   "metadata": {},
   "outputs": [
    {
     "name": "stdout",
     "output_type": "stream",
     "text": [
      "Average Error 0.04341333333333334 \n",
      "\n"
     ]
    },
    {
     "data": {
      "text/plain": [
       "Product             CardCategory          0.00218\n",
       "CardType            isFraud               0.00358\n",
       "Product             DaysSinceLastTrans    0.00364\n",
       "                    Region                0.00440\n",
       "TransAmtDisc        Product               0.00608\n",
       "                    isFraud               0.00688\n",
       "DayOfWeek           isFraud               0.00798\n",
       "Product             EmailDomain           0.01234\n",
       "DaysSinceLastTrans  isFraud               0.01288\n",
       "Hour                CardCategory          0.01438\n",
       "DayOfWeek           CardType              0.01490\n",
       "Hour                isFraud               0.01548\n",
       "EmailDomain         Region                0.01578\n",
       "CardCategory        isFraud               0.01598\n",
       "                    Region                0.02330\n",
       "Hour                CardType              0.02344\n",
       "EmailDomain         isFraud               0.02476\n",
       "Region              DaysSinceLastTrans    0.02646\n",
       "EmailDomain         DaysSinceLastTrans    0.02872\n",
       "DayOfWeek           Region                0.02930\n",
       "Region              isFraud               0.03000\n",
       "Product             isFraud               0.03304\n",
       "TransAmtDisc        DayOfWeek             0.03686\n",
       "DayOfWeek           DaysSinceLastTrans    0.03966\n",
       "                    Hour                  0.04332\n",
       "Hour                DaysSinceLastTrans    0.04426\n",
       "TransAmtDisc        CardType              0.04552\n",
       "                    Region                0.04596\n",
       "DayOfWeek           EmailDomain           0.04792\n",
       "CardType            DaysSinceLastTrans    0.05002\n",
       "                    EmailDomain           0.05060\n",
       "TransAmtDisc        DaysSinceLastTrans    0.05706\n",
       "Hour                EmailDomain           0.06142\n",
       "DayOfWeek           CardCategory          0.06370\n",
       "CardCategory        DaysSinceLastTrans    0.06642\n",
       "DayOfWeek           Product               0.06792\n",
       "TransAmtDisc        Hour                  0.06878\n",
       "                    EmailDomain           0.07218\n",
       "CardType            Region                0.07294\n",
       "CardCategory        EmailDomain           0.07952\n",
       "Hour                Product               0.09120\n",
       "                    Region                0.11034\n",
       "TransAmtDisc        CardCategory          0.12318\n",
       "CardType            CardCategory          0.12610\n",
       "Product             CardType              0.13322\n",
       "dtype: float64"
      ]
     },
     "metadata": {},
     "output_type": "display_data"
    }
   ],
   "source": [
    "# Evaluate the errors on 2-way marginals\n",
    "def score(synth):\n",
    "  errors = {}\n",
    "  for cl in itertools.combinations(data.domain, 2):\n",
    "    true_marginal = data.project(cl).datavector()\n",
    "    est_marginal = synth.project(cl).datavector()\n",
    "    errors[cl] = np.linalg.norm(true_marginal-est_marginal, 1) / data.records\n",
    "\n",
    "  errors = pd.Series(errors).sort_values()\n",
    "\n",
    "  print('Average Error', errors.mean(), '\\n')\n",
    "  return errors\n",
    "\n",
    "df = score(synth)\n",
    "display(df)"
   ]
  }
 ],
 "metadata": {
  "kernelspec": {
   "display_name": "Python 3",
   "language": "python",
   "name": "python3"
  },
  "language_info": {
   "codemirror_mode": {
    "name": "ipython",
    "version": 3
   },
   "file_extension": ".py",
   "mimetype": "text/x-python",
   "name": "python",
   "nbconvert_exporter": "python",
   "pygments_lexer": "ipython3",
   "version": "3.9.4"
  }
 },
 "nbformat": 4,
 "nbformat_minor": 5
}
