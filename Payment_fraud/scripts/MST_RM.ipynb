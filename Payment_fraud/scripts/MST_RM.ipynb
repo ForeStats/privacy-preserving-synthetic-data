{
 "cells": [
  {
   "cell_type": "code",
   "execution_count": 1,
   "id": "0c36c214",
   "metadata": {
    "scrolled": true
   },
   "outputs": [],
   "source": [
    "import numpy as np\n",
    "import pandas as pd\n",
    "from mbi import FactoredInference, Dataset, Domain\n",
    "from scipy import sparse\n",
    "from disjoint_set import DisjointSet\n",
    "import networkx as nx\n",
    "import itertools, random\n",
    "from scipy.special import logsumexp\n",
    "import argparse\n",
    "from cdp2adp import cdp_rho\n",
    "from msthelpers import measure, compress_domain, select"
   ]
  },
  {
   "cell_type": "code",
   "execution_count": 2,
   "id": "fd8f2e9b",
   "metadata": {
    "scrolled": true
   },
   "outputs": [
    {
     "data": {
      "text/html": [
       "<div>\n",
       "<style scoped>\n",
       "    .dataframe tbody tr th:only-of-type {\n",
       "        vertical-align: middle;\n",
       "    }\n",
       "\n",
       "    .dataframe tbody tr th {\n",
       "        vertical-align: top;\n",
       "    }\n",
       "\n",
       "    .dataframe thead th {\n",
       "        text-align: right;\n",
       "    }\n",
       "</style>\n",
       "<table border=\"1\" class=\"dataframe\">\n",
       "  <thead>\n",
       "    <tr style=\"text-align: right;\">\n",
       "      <th></th>\n",
       "      <th>TransAmtDisc</th>\n",
       "      <th>DayOfWeek</th>\n",
       "      <th>Hour</th>\n",
       "      <th>Product</th>\n",
       "      <th>CardType</th>\n",
       "      <th>CardCategory</th>\n",
       "      <th>EmailDomain</th>\n",
       "      <th>Region</th>\n",
       "      <th>DaysSinceLastTrans</th>\n",
       "      <th>isFraud</th>\n",
       "    </tr>\n",
       "  </thead>\n",
       "  <tbody>\n",
       "    <tr>\n",
       "      <th>0</th>\n",
       "      <td>2</td>\n",
       "      <td>2</td>\n",
       "      <td>7</td>\n",
       "      <td>4</td>\n",
       "      <td>1</td>\n",
       "      <td>0</td>\n",
       "      <td>3</td>\n",
       "      <td>0</td>\n",
       "      <td>2</td>\n",
       "      <td>0</td>\n",
       "    </tr>\n",
       "    <tr>\n",
       "      <th>1</th>\n",
       "      <td>0</td>\n",
       "      <td>2</td>\n",
       "      <td>7</td>\n",
       "      <td>4</td>\n",
       "      <td>2</td>\n",
       "      <td>0</td>\n",
       "      <td>3</td>\n",
       "      <td>4</td>\n",
       "      <td>3</td>\n",
       "      <td>0</td>\n",
       "    </tr>\n",
       "    <tr>\n",
       "      <th>2</th>\n",
       "      <td>2</td>\n",
       "      <td>2</td>\n",
       "      <td>7</td>\n",
       "      <td>4</td>\n",
       "      <td>3</td>\n",
       "      <td>1</td>\n",
       "      <td>8</td>\n",
       "      <td>0</td>\n",
       "      <td>3</td>\n",
       "      <td>0</td>\n",
       "    </tr>\n",
       "    <tr>\n",
       "      <th>3</th>\n",
       "      <td>1</td>\n",
       "      <td>2</td>\n",
       "      <td>7</td>\n",
       "      <td>4</td>\n",
       "      <td>2</td>\n",
       "      <td>1</td>\n",
       "      <td>9</td>\n",
       "      <td>0</td>\n",
       "      <td>0</td>\n",
       "      <td>0</td>\n",
       "    </tr>\n",
       "    <tr>\n",
       "      <th>4</th>\n",
       "      <td>1</td>\n",
       "      <td>2</td>\n",
       "      <td>7</td>\n",
       "      <td>1</td>\n",
       "      <td>2</td>\n",
       "      <td>0</td>\n",
       "      <td>3</td>\n",
       "      <td>0</td>\n",
       "      <td>3</td>\n",
       "      <td>0</td>\n",
       "    </tr>\n",
       "  </tbody>\n",
       "</table>\n",
       "</div>"
      ],
      "text/plain": [
       "   TransAmtDisc  DayOfWeek  Hour  Product  CardType  CardCategory  \\\n",
       "0             2          2     7        4         1             0   \n",
       "1             0          2     7        4         2             0   \n",
       "2             2          2     7        4         3             1   \n",
       "3             1          2     7        4         2             1   \n",
       "4             1          2     7        1         2             0   \n",
       "\n",
       "   EmailDomain  Region  DaysSinceLastTrans  isFraud  \n",
       "0            3       0                   2        0  \n",
       "1            3       4                   3        0  \n",
       "2            8       0                   3        0  \n",
       "3            9       0                   0        0  \n",
       "4            3       0                   3        0  "
      ]
     },
     "metadata": {},
     "output_type": "display_data"
    }
   ],
   "source": [
    "data = Dataset.load('data.csv', 'domain.json')\n",
    "total = data.df.shape[0]\n",
    "display(data.df.head())"
   ]
  },
  {
   "cell_type": "code",
   "execution_count": 3,
   "id": "76de6ef7",
   "metadata": {},
   "outputs": [
    {
     "data": {
      "text/plain": [
       "Domain(TransAmtDisc: 5, DayOfWeek: 7, Hour: 24, Product: 5, CardType: 4, CardCategory: 2, EmailDomain: 10, Region: 6, DaysSinceLastTrans: 4, isFraud: 2)"
      ]
     },
     "metadata": {},
     "output_type": "display_data"
    }
   ],
   "source": [
    "display(data.domain)"
   ]
  },
  {
   "cell_type": "code",
   "execution_count": 4,
   "id": "f433ead3",
   "metadata": {},
   "outputs": [
    {
     "data": {
      "text/plain": [
       "10.008992891756666"
      ]
     },
     "metadata": {},
     "output_type": "display_data"
    }
   ],
   "source": [
    "epsilon = 1.0\n",
    "delta = 1e-9\n",
    "rho = cdp_rho(epsilon, delta)\n",
    "sigma = np.sqrt(3/(2*rho))\n",
    "display(sigma)"
   ]
  },
  {
   "cell_type": "code",
   "execution_count": 5,
   "id": "5180a0c2",
   "metadata": {},
   "outputs": [
    {
     "data": {
      "text/plain": [
       "[('TransAmtDisc',),\n",
       " ('DayOfWeek',),\n",
       " ('Hour',),\n",
       " ('Product',),\n",
       " ('CardType',),\n",
       " ('CardCategory',),\n",
       " ('EmailDomain',),\n",
       " ('Region',),\n",
       " ('DaysSinceLastTrans',),\n",
       " ('isFraud',)]"
      ]
     },
     "metadata": {},
     "output_type": "display_data"
    },
    {
     "data": {
      "text/plain": [
       "[('TransAmtDisc', 'Product'),\n",
       " ('DayOfWeek', 'Hour'),\n",
       " ('Hour', 'Region'),\n",
       " ('Product', 'DaysSinceLastTrans'),\n",
       " ('Product', 'CardCategory'),\n",
       " ('Product', 'Region'),\n",
       " ('Product', 'EmailDomain'),\n",
       " ('Product', 'CardType'),\n",
       " ('Product', 'isFraud')]"
      ]
     },
     "metadata": {},
     "output_type": "display_data"
    }
   ],
   "source": [
    "cliques = [(col,) for col in data.domain]\n",
    "display(cliques)\n",
    "log1 = measure(data, cliques, sigma)\n",
    "data, log1, undo_compress_fn = compress_domain(data, log1)\n",
    "cliques = select(data, rho/3.0, log1)\n",
    "display(cliques)\n",
    "log2 = measure(data, cliques, sigma)"
   ]
  },
  {
   "cell_type": "code",
   "execution_count": 6,
   "id": "2b3887b6",
   "metadata": {},
   "outputs": [],
   "source": [
    "# GENERATE synthetic data using Private-PGM\n",
    "engine = FactoredInference(data.domain, iters=2000)\n",
    "est = engine.estimate(log1+log2)\n",
    "synth = est.synthetic_data(rows = total)"
   ]
  },
  {
   "cell_type": "code",
   "execution_count": 7,
   "id": "e64811b3",
   "metadata": {},
   "outputs": [
    {
     "name": "stdout",
     "output_type": "stream",
     "text": [
      "Average Error 0.03432533333333333 \n",
      "\n"
     ]
    },
    {
     "data": {
      "text/plain": [
       "Product             CardCategory          0.00112\n",
       "                    isFraud               0.00158\n",
       "CardType            isFraud               0.00200\n",
       "TransAmtDisc        Product               0.00332\n",
       "Product             CardType              0.00402\n",
       "Region              isFraud               0.00410\n",
       "Product             DaysSinceLastTrans    0.00416\n",
       "DayOfWeek           isFraud               0.00470\n",
       "Product             Region                0.00652\n",
       "CardType            DaysSinceLastTrans    0.00830\n",
       "Product             EmailDomain           0.00992\n",
       "DaysSinceLastTrans  isFraud               0.01068\n",
       "Hour                isFraud               0.01136\n",
       "TransAmtDisc        isFraud               0.01252\n",
       "DayOfWeek           CardType              0.01418\n",
       "CardCategory        isFraud               0.01534\n",
       "EmailDomain         isFraud               0.01584\n",
       "Region              DaysSinceLastTrans    0.02396\n",
       "CardType            EmailDomain           0.02460\n",
       "CardCategory        Region                0.02474\n",
       "TransAmtDisc        CardType              0.02520\n",
       "Hour                Region                0.02616\n",
       "DayOfWeek           Region                0.02656\n",
       "EmailDomain         DaysSinceLastTrans    0.02706\n",
       "Hour                CardType              0.03002\n",
       "DayOfWeek           Hour                  0.03162\n",
       "CardType            Region                0.03496\n",
       "DayOfWeek           DaysSinceLastTrans    0.03652\n",
       "TransAmtDisc        DayOfWeek             0.04312\n",
       "                    Region                0.04450\n",
       "DayOfWeek           EmailDomain           0.04664\n",
       "Hour                DaysSinceLastTrans    0.04720\n",
       "                    CardCategory          0.04756\n",
       "EmailDomain         Region                0.04900\n",
       "TransAmtDisc        DaysSinceLastTrans    0.05366\n",
       "Hour                EmailDomain           0.05960\n",
       "TransAmtDisc        Hour                  0.06044\n",
       "CardCategory        DaysSinceLastTrans    0.06346\n",
       "DayOfWeek           CardCategory          0.06498\n",
       "TransAmtDisc        EmailDomain           0.06856\n",
       "DayOfWeek           Product               0.07332\n",
       "CardCategory        EmailDomain           0.07612\n",
       "Hour                Product               0.07958\n",
       "CardType            CardCategory          0.10630\n",
       "TransAmtDisc        CardCategory          0.11954\n",
       "dtype: float64"
      ]
     },
     "metadata": {},
     "output_type": "display_data"
    }
   ],
   "source": [
    "# Evaluate the errors on 2-way marginals\n",
    "def score(synth):\n",
    "  errors = {}\n",
    "  for cl in itertools.combinations(data.domain, 2):\n",
    "    true_marginal = data.project(cl).datavector()\n",
    "    est_marginal = synth.project(cl).datavector()\n",
    "    errors[cl] = np.linalg.norm(true_marginal-est_marginal, 1) / data.records\n",
    "\n",
    "  errors = pd.Series(errors).sort_values()\n",
    "\n",
    "  print('Average Error', errors.mean(), '\\n')\n",
    "  return errors\n",
    "\n",
    "df = score(synth)\n",
    "display(df)"
   ]
  }
 ],
 "metadata": {
  "kernelspec": {
   "display_name": "Python 3",
   "language": "python",
   "name": "python3"
  },
  "language_info": {
   "codemirror_mode": {
    "name": "ipython",
    "version": 3
   },
   "file_extension": ".py",
   "mimetype": "text/x-python",
   "name": "python",
   "nbconvert_exporter": "python",
   "pygments_lexer": "ipython3",
   "version": "3.9.4"
  }
 },
 "nbformat": 4,
 "nbformat_minor": 5
}
